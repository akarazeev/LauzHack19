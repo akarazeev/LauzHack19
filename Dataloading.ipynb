{
 "cells": [
  {
   "cell_type": "code",
   "execution_count": 6,
   "metadata": {},
   "outputs": [
    {
     "name": "stdout",
     "output_type": "stream",
     "text": [
      "The autoreload extension is already loaded. To reload it, use:\n",
      "  %reload_ext autoreload\n"
     ]
    }
   ],
   "source": [
    "%load_ext autoreload\n",
    "%autoreload 2\n",
    "\n",
    "from utils import load_patients, load_viruses"
   ]
  },
  {
   "cell_type": "code",
   "execution_count": 45,
   "metadata": {},
   "outputs": [
    {
     "name": "stdout",
     "output_type": "stream",
     "text": [
      "PT8-S2.fastq\t... Done.\n",
      "PT9-S1.fastq\t... Done.\n",
      "PT8-S1.fastq\t... Done.\n",
      "PT7-S1.fastq\t... Done.\n",
      "PT2-S1_1.fastq\t... Done.\n"
     ]
    }
   ],
   "source": [
    "tmp = load_patients()"
   ]
  },
  {
   "cell_type": "code",
   "execution_count": 8,
   "metadata": {},
   "outputs": [
    {
     "name": "stdout",
     "output_type": "stream",
     "text": [
      "viral.3.2.genomic.fna\t... Done.\n",
      "viral.2.3.genomic.fna\t... Done.\n",
      "viral.3.1.genomic.fna\t... Done.\n",
      "viral.2.1.genomic.fna\t... Done.\n",
      "viral.1.1.genomic.fna\t... Done.\n",
      "viral.2.4.genomic.fna\t... Done.\n",
      "viral.2.2.genomic.fna\t... Done.\n"
     ]
    }
   ],
   "source": [
    "viruses = load_viruses()"
   ]
  },
  {
   "cell_type": "code",
   "execution_count": 10,
   "metadata": {},
   "outputs": [],
   "source": [
    "virus_names = list(viruses.keys())"
   ]
  },
  {
   "cell_type": "code",
   "execution_count": 11,
   "metadata": {},
   "outputs": [],
   "source": [
    "import pandas as pd\n",
    "df = pd.read_csv('data/viruses_table.csv')"
   ]
  },
  {
   "cell_type": "code",
   "execution_count": 17,
   "metadata": {},
   "outputs": [],
   "source": [
    "popular_virus_codes = df.values[:, 5]"
   ]
  },
  {
   "cell_type": "code",
   "execution_count": 36,
   "metadata": {},
   "outputs": [],
   "source": [
    "truth_arr = [any([popular_virus_code in virus_name for virus_name in virus_names]) for popular_virus_code in popular_virus_codes]"
   ]
  },
  {
   "cell_type": "code",
   "execution_count": 34,
   "metadata": {},
   "outputs": [
    {
     "data": {
      "text/plain": [
       "87"
      ]
     },
     "execution_count": 34,
     "metadata": {},
     "output_type": "execute_result"
    }
   ],
   "source": [
    "sum(truth_arr)"
   ]
  },
  {
   "cell_type": "code",
   "execution_count": 39,
   "metadata": {},
   "outputs": [],
   "source": [
    "popular_virus_names = list(filter(lambda name: any([code in name for code in popular_virus_codes]), virus_names))"
   ]
  },
  {
   "cell_type": "code",
   "execution_count": 42,
   "metadata": {},
   "outputs": [
    {
     "data": {
      "text/plain": [
       "['NC_001806.2 Human herpesvirus 1 strain 17, complete genome',\n",
       " 'NC_001547.1 Sindbis virus, complete genome',\n",
       " 'NC_001401.2 Adeno-associated virus - 2, complete genome',\n",
       " 'NC_005179.1 Yaba monkey tumor virus, complete genome',\n",
       " 'NC_003215.1 Semliki forest virus, complete genome',\n",
       " 'NC_003310.1 Monkeypox virus Zaire-96-I-16, complete genome',\n",
       " 'NC_001434.1 Hepatitis E virus, complete genome',\n",
       " 'NC_002728.1 Nipah virus, complete genome',\n",
       " 'NC_003977.2 Hepatitis B virus (strain ayw) genome',\n",
       " 'NC_001943.1 Human astrovirus, complete genome',\n",
       " 'NC_001348.1 Human herpesvirus 3, complete genome',\n",
       " 'NC_001449.1 Venezuelan equine encephalitis virus, complete genome',\n",
       " 'NC_004162.2 Chikungunya virus, complete genome',\n",
       " 'NC_001781.1 Human orthopneumovirus Subgroup B, complete genome',\n",
       " 'NC_001664.4 Human betaherpesvirus 6A, variant A DNA, complete virion genome, isolate U1102',\n",
       " 'NC_001560.1 Vesicular stomatitis Indiana virus, complete genome',\n",
       " 'NC_007605.1 Human gammaherpesvirus 4, complete genome',\n",
       " 'NC_001356.1 Human papillomavirus - 1, complete genome',\n",
       " 'NC_003461.1 Human parainfluenza virus 1, complete genome',\n",
       " 'NC_001710.1 GB virus C/Hepatitis G virus, complete genome',\n",
       " 'NC_006998.1 Vaccinia virus, complete genome',\n",
       " 'NC_006554.1 Sapovirus C12 strain C12',\n",
       " 'NC_009539.1 WU Polyomavirus, complete genome',\n",
       " 'NC_001786.1 Barmah Forest virus, complete genome',\n",
       " 'NC_001617.1 Human rhinovirus 89, complete genome',\n",
       " 'NC_004718.3 SARS coronavirus, complete genome',\n",
       " 'NC_019843.3 Middle East respiratory syndrome coronavirus, complete genome',\n",
       " 'NC_001608.3 Marburg marburgvirus isolate Marburg virus/H.sapiens-tc/KEN/1980/Mt. Elgon-Musoke, complete genome',\n",
       " 'NC_001653.2 Hepatitis delta virus, complete genome',\n",
       " 'NC_002058.3 Poliovirus, complete genome',\n",
       " 'NC_001545.2 Rubella virus, complete genome',\n",
       " 'NC_009527.1 European bat lyssavirus 1, complete genome',\n",
       " 'NC_001405.1 Human adenovirus C, complete genome',\n",
       " 'NC_001918.1 Aichi virus, complete genome',\n",
       " 'NC_000883.2 Human parvovirus B19, complete genome',\n",
       " 'NC_001611.1 Variola virus, complete genome',\n",
       " 'NC_001542.1 Rabies virus, complete genome',\n",
       " 'NC_001477.1 Dengue virus 1, complete genome',\n",
       " 'NC_000943.1 Murray Valley encephalitis virus, complete genome',\n",
       " 'NC_001809.1 Louping ill virus, complete genome',\n",
       " 'NC_002031.1 Yellow fever virus, complete genome',\n",
       " 'NC_003687.1 Powassan virus, complete genome',\n",
       " 'NC_003690.1 Langat virus, complete genome',\n",
       " 'NC_001437.1 Japanese encephalitis virus, genome',\n",
       " 'NC_007580.2 Saint Louis encephalitis virus, complete genome',\n",
       " 'NC_009333.1 Human herpesvirus 8 strain GK18, complete genome',\n",
       " 'NC_004102.1 Hepatitis C virus genotype 1, complete genome',\n",
       " 'NC_001563.2 West Nile virus lineage 2, complete genome',\n",
       " 'NC_012532.1 Zika virus, complete genome',\n",
       " 'NC_001526.4 Human papillomavirus type 16, complete genome',\n",
       " 'NC_002200.1 Mumps virus, complete genome',\n",
       " 'NC_002076.2 Torque teno virus 1, complete genome',\n",
       " 'NC_001906.3 Hendra virus, complete genome',\n",
       " 'NC_001731.1 Molluscum contagiosum virus subtype 1, complete genome',\n",
       " 'NC_002645.1 Human coronavirus 229E, complete genome',\n",
       " 'NC_001538.1 BK polyomavirus, complete genome',\n",
       " 'NC_003663.2 Cowpox virus, complete genome',\n",
       " 'NC_002642.1 Yaba-like disease virus, complete genome',\n",
       " 'NC_001352.1 Human papillomavirus - 2, complete genome',\n",
       " 'NC_005336.1 Orf virus, complete genome',\n",
       " 'NC_002549.1 Zaire ebolavirus isolate Ebola virus/H.sapiens-tc/COD/1976/Yambuku-Mayinga, complete genome',\n",
       " \"NC_001512.1 O'nyong-nyong virus, complete genome\",\n",
       " 'NC_001479.1 Encephalomyocarditis virus, complete genome',\n",
       " 'NC_006429.1 Mokola virus, complete genome',\n",
       " 'NC_001544.1 Ross River virus, complete genome',\n",
       " 'NC_003899.1 Eastern equine encephalitis virus, complete genome',\n",
       " 'NC_003908.1 Western equine encephalomyelitis virus, complete genome',\n",
       " 'NC_006560.1 Cercopithecine herpesvirus 2, complete genome',\n",
       " 'NC_001716.2 Human herpesvirus 7, complete genome',\n",
       " 'NC_012957.1 Salivirus NG-J1, complete genome',\n",
       " 'NC_001959.2 Norovirus GI, complete genome',\n",
       " 'NC_001699.1 JC polyomavirus, complete genome',\n",
       " 'NC_001498.1 Measles virus, complete genome',\n",
       " 'NC_001436.1 Human T-lymphotropic virus 1, complete genome',\n",
       " 'NC_001364.1 Simian foamy virus, complete genome',\n",
       " 'NC_001430.1 Human enterovirus D, complete genome',\n",
       " 'NC_010277.2 Merkel cell polyomavirus isolate R17b, complete genome',\n",
       " 'NC_009238.1 KI polyomavirus Stockholm 60, complete genome',\n",
       " 'NC_001489.1 Hepatitis A virus, complete genome',\n",
       " 'NC_003417.1 Mayaro virus, complete genome',\n",
       " 'NC_001612.1 Human enterovirus A, complete genome',\n",
       " 'NC_001897.1 Human parechovirus, genome',\n",
       " 'NC_001802.1 Human immunodeficiency virus 1, complete genome',\n",
       " 'NC_003243.1 Australian bat lyssavirus, complete genome',\n",
       " 'NC_012800.1 Cosavirus A strain HCoSV-A1 polyprotein gene, complete cds',\n",
       " 'NC_001798.2 Human herpesvirus 2 strain HG52, complete genome',\n",
       " 'NC_024070.1 Rosavirus 2 strain GA7403, complete genome']"
      ]
     },
     "execution_count": 42,
     "metadata": {},
     "output_type": "execute_result"
    }
   ],
   "source": [
    "popular_virus_names"
   ]
  },
  {
   "cell_type": "code",
   "execution_count": 43,
   "metadata": {},
   "outputs": [],
   "source": [
    "import json"
   ]
  },
  {
   "cell_type": "code",
   "execution_count": 44,
   "metadata": {},
   "outputs": [],
   "source": [
    "with open('popular_virus_names.json', 'w') as f:\n",
    "    json.dump(popular_virus_names, f)"
   ]
  },
  {
   "cell_type": "code",
   "execution_count": null,
   "metadata": {},
   "outputs": [],
   "source": []
  }
 ],
 "metadata": {
  "kernelspec": {
   "display_name": "Python 3",
   "language": "python",
   "name": "python3"
  },
  "language_info": {
   "codemirror_mode": {
    "name": "ipython",
    "version": 3
   },
   "file_extension": ".py",
   "mimetype": "text/x-python",
   "name": "python",
   "nbconvert_exporter": "python",
   "pygments_lexer": "ipython3",
   "version": "3.7.5"
  }
 },
 "nbformat": 4,
 "nbformat_minor": 4
}
