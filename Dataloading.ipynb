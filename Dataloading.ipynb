{
 "cells": [
  {
   "cell_type": "code",
   "execution_count": 1,
   "metadata": {},
   "outputs": [],
   "source": [
    "from Bio import SeqIO\n",
    "from Bio import Align\n",
    "import os"
   ]
  },
  {
   "cell_type": "code",
   "execution_count": 2,
   "metadata": {},
   "outputs": [
    {
     "name": "stdout",
     "output_type": "stream",
     "text": [
      "PT8-S2.fastq\t... Done.\n",
      "PT9-S1.fastq\t... Done.\n",
      "PT8-S1.fastq\t... Done.\n",
      "PT7-S1.fastq\t... Done.\n",
      "PT2-S1_1.fastq\t... Done.\n"
     ]
    }
   ],
   "source": [
    "patients = dict()\n",
    "root_data = 'dataset_cp_pt_brain_dna/DNA'\n",
    "for f in [f for f in os.listdir(root_data) if f.endswith('fastq')]:\n",
    "    print(f, end=\"\\t... \")\n",
    "    patients[f.split('.')[0]] = list(SeqIO.parse(os.path.join(root_data, f), \"fastq\"))\n",
    "    print(\"Done.\")"
   ]
  },
  {
   "cell_type": "code",
   "execution_count": 3,
   "metadata": {},
   "outputs": [
    {
     "name": "stdout",
     "output_type": "stream",
     "text": [
      "viral.3.1.genomic.fna\t... Done.\n",
      "viral.2.1.genomic.fna\t... Done.\n",
      "viral.1.1.genomic.fna\t... Done.\n"
     ]
    }
   ],
   "source": [
    "viruses = dict()\n",
    "root_data = 'viral'\n",
    "for f in [f for f in os.listdir(root_data) if f.endswith('fna')]:\n",
    "    print(f, end=\"\\t...\")\n",
    "    with open(os.path.join(root_data, f), 'r') as fileptr:\n",
    "        text = fileptr.read().split('>')[1:]\n",
    "        viruses.update({vir.split('\\n')[0]: ''.join(vir.split('\\n')[1:]) for vir in text})\n",
    "        print(\" Done.\")"
   ]
  },
  {
   "cell_type": "code",
   "execution_count": 41,
   "metadata": {},
   "outputs": [],
   "source": []
  },
  {
   "cell_type": "code",
   "execution_count": null,
   "metadata": {},
   "outputs": [],
   "source": []
  }
 ],
 "metadata": {
  "kernelspec": {
   "display_name": "Python 3",
   "language": "python",
   "name": "python3"
  },
  "language_info": {
   "codemirror_mode": {
    "name": "ipython",
    "version": 3
   },
   "file_extension": ".py",
   "mimetype": "text/x-python",
   "name": "python",
   "nbconvert_exporter": "python",
   "pygments_lexer": "ipython3",
   "version": "3.7.5"
  }
 },
 "nbformat": 4,
 "nbformat_minor": 2
}
