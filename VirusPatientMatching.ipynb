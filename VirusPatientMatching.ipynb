{
 "cells": [
  {
   "cell_type": "code",
   "execution_count": 147,
   "metadata": {},
   "outputs": [
    {
     "name": "stdout",
     "output_type": "stream",
     "text": [
      "The autoreload extension is already loaded. To reload it, use:\n",
      "  %reload_ext autoreload\n"
     ]
    }
   ],
   "source": [
    "%load_ext autoreload\n",
    "%autoreload 2"
   ]
  },
  {
   "cell_type": "code",
   "execution_count": 187,
   "metadata": {},
   "outputs": [],
   "source": [
    "from Bio import SeqIO\n",
    "from Bio import Align\n",
    "\n",
    "import json\n",
    "import numpy as np\n",
    "from functools import reduce\n",
    "from utils import load_patients, load_viruses, compute_virus_alignment_score"
   ]
  },
  {
   "cell_type": "markdown",
   "metadata": {},
   "source": [
    "# Example with `gap_score`"
   ]
  },
  {
   "cell_type": "code",
   "execution_count": 188,
   "metadata": {},
   "outputs": [
    {
     "name": "stdout",
     "output_type": "stream",
     "text": [
      "Score = 2.0:\n",
      "TATCC\n",
      "-|-|-\n",
      "-A-C-\n",
      "\n",
      "Score = 2.0:\n",
      "TATCC\n",
      "-|--|\n",
      "-A--C\n",
      "\n"
     ]
    },
    {
     "data": {
      "text/plain": [
       "{'target': 'TATCC',\n",
       " 'query': 'AC',\n",
       " 'score': 2.0,\n",
       " 'path': ((0, 0), (1, 0), (2, 1), (4, 1), (5, 2))}"
      ]
     },
     "execution_count": 188,
     "metadata": {},
     "output_type": "execute_result"
    }
   ],
   "source": [
    "aligner = Align.PairwiseAligner()\n",
    "# aligner.open_gap_score = -1\n",
    "# aligner.extend_gap_score = -1\n",
    "# aligner.target_end_gap_score = 0.0\n",
    "# aligner.query_end_gap_score = 0.0\n",
    "\n",
    "alignments = aligner.align(\"TATCC\", \"AC\")\n",
    "for alignment in sorted(alignments):\n",
    "    print(\"Score = %.1f:\" % alignment.score)\n",
    "    print(alignment)\n",
    "\n",
    "alignments.alignment.__dict__"
   ]
  },
  {
   "cell_type": "markdown",
   "metadata": {},
   "source": [
    "# Loading data"
   ]
  },
  {
   "cell_type": "code",
   "execution_count": 189,
   "metadata": {},
   "outputs": [
    {
     "name": "stdout",
     "output_type": "stream",
     "text": [
      "viral.3.2.genomic.fna\t... Done.\n",
      "viral.2.3.genomic.fna\t... Done.\n",
      "viral.3.1.genomic.fna\t... Done.\n",
      "viral.2.1.genomic.fna\t... Done.\n",
      "viral.1.1.genomic.fna\t... Done.\n",
      "viral.2.4.genomic.fna\t... Done.\n",
      "viral.2.2.genomic.fna\t... Done.\n",
      "PT8-S2.fastq\t... Done.\n",
      "PT9-S1.fastq\t... Done.\n",
      "PT8-S1.fastq\t... Done.\n",
      "PT7-S1.fastq\t... Done.\n",
      "PT2-S1_1.fastq\t... Done.\n",
      "(310541,)\n",
      "(310541,)\n"
     ]
    }
   ],
   "source": [
    "viruses_full = load_viruses()\n",
    "patients_identity_full, patients_entries_full = load_patients()\n",
    "print(patients_entries_full.shape)\n",
    "print(patients_identity_full.shape)"
   ]
  },
  {
   "cell_type": "code",
   "execution_count": 190,
   "metadata": {},
   "outputs": [],
   "source": [
    "with open('popular_virus_names.json', 'r') as f:\n",
    "    popular_viruses_keys = json.load(f)"
   ]
  },
  {
   "cell_type": "code",
   "execution_count": 191,
   "metadata": {},
   "outputs": [],
   "source": [
    "n_viruses = 87\n",
    "n_entries = 100\n",
    "\n",
    "np.random.seed(42)\n",
    "\n",
    "viruses = {k:viruses_full[k] for k in popular_viruses_keys[:n_viruses]}\n",
    "\n",
    "random_idx = np.arange(patients_entries_full.shape[0])\n",
    "np.random.shuffle(random_idx)\n",
    "random_idx = random_idx[:n_entries]\n",
    "\n",
    "patients_entries = patients_entries_full[random_idx]\n",
    "patients_identity = patients_identity_full[random_idx]"
   ]
  },
  {
   "cell_type": "code",
   "execution_count": null,
   "metadata": {},
   "outputs": [],
   "source": [
    "from multiprocessing import Pool\n",
    "\n",
    "aligner = Align.PairwiseAligner()\n",
    "aligner.open_gap_score = -1\n",
    "aligner.extend_gap_score = -1\n",
    "aligner.target_end_gap_score = 0.0\n",
    "aligner.query_end_gap_score = 0.0\n",
    "\n",
    "\n",
    "def comp_al_score(patients_vdna):\n",
    "    patients_entries, virus_dna = patients_vdna\n",
    "    return compute_virus_alignment_score(patients_entries, virus_dna, aligner)\n",
    "\n",
    "\n",
    "tuples_to_process = [(patients_entries, v_dna) for v_dna in viruses.values()]\n",
    "\n",
    "with Pool(8) as p:\n",
    "    alignements_scors_list = p.map(\n",
    "        comp_al_score, \n",
    "        tuples_to_process\n",
    "    )\n",
    "\n",
    "result = np.array(alignements_scors_list).T"
   ]
  },
  {
   "cell_type": "code",
   "execution_count": 159,
   "metadata": {},
   "outputs": [],
   "source": [
    "result_copy = result.copy()"
   ]
  },
  {
   "cell_type": "code",
   "execution_count": 160,
   "metadata": {},
   "outputs": [],
   "source": [
    "result_copy /= result_copy.max(axis=0)"
   ]
  },
  {
   "cell_type": "code",
   "execution_count": 161,
   "metadata": {},
   "outputs": [
    {
     "data": {
      "text/plain": [
       "<matplotlib.image.AxesImage at 0x12bc4cdd0>"
      ]
     },
     "execution_count": 161,
     "metadata": {},
     "output_type": "execute_result"
    },
    {
     "data": {
      "image/png": "[encoded data removed]",
      "text/plain": [
       "<Figure size 1080x1080 with 1 Axes>"
      ]
     },
     "metadata": {
      "needs_background": "light"
     },
     "output_type": "display_data"
    }
   ],
   "source": [
    "from matplotlib import pyplot as plt\n",
    "%matplotlib inline\n",
    "\n",
    "plt.figure(figsize=(15, 15))\n",
    "plt.xlabel('Viruses')\n",
    "plt.ylabel('Entries')\n",
    "plt.imshow(result_copy, cmap='hot', interpolation='nearest')"
   ]
  },
  {
   "cell_type": "code",
   "execution_count": 162,
   "metadata": {},
   "outputs": [],
   "source": [
    "patients_results = dict()\n",
    "for patient_id, entry in zip(patients_identity, result):\n",
    "    if patient_id not in patients_results:\n",
    "        patients_results[patient_id] = []\n",
    "    else:\n",
    "        patients_results[patient_id] += [entry]"
   ]
  },
  {
   "cell_type": "code",
   "execution_count": 163,
   "metadata": {},
   "outputs": [],
   "source": [
    "for k in patients_results.keys():\n",
    "    patients_results[k] = np.array(patients_results[k])"
   ]
  },
  {
   "cell_type": "code",
   "execution_count": 164,
   "metadata": {},
   "outputs": [
    {
     "data": {
      "text/plain": [
       "(12, 2)"
      ]
     },
     "execution_count": 164,
     "metadata": {},
     "output_type": "execute_result"
    }
   ],
   "source": [
    "patients_results['PT2-S1_1'].shape"
   ]
  },
  {
   "cell_type": "code",
   "execution_count": 165,
   "metadata": {},
   "outputs": [],
   "source": [
    "patients_means_per_virus = dict()\n",
    "for k in patients_results.keys():\n",
    "#     patients_means_per_virus[k] = patients_results[k].mean(axis=0)\n",
    "    patients_means_per_virus[k] = np.median(patients_results[k], axis=0)"
   ]
  },
  {
   "cell_type": "code",
   "execution_count": 166,
   "metadata": {},
   "outputs": [
    {
     "data": {
      "text/plain": [
       "(2,)"
      ]
     },
     "execution_count": 166,
     "metadata": {},
     "output_type": "execute_result"
    }
   ],
   "source": [
    "patients_means_per_virus['PT2-S1_1'].shape"
   ]
  },
  {
   "cell_type": "code",
   "execution_count": 167,
   "metadata": {},
   "outputs": [],
   "source": [
    "quantiles_label = [0.25, 0.5, 0.75, 1]\n",
    "virus_quantiles = np.quantile(result, q=quantiles_label, axis=0)"
   ]
  },
  {
   "cell_type": "code",
   "execution_count": 168,
   "metadata": {},
   "outputs": [
    {
     "data": {
      "text/plain": [
       "(4, 2)"
      ]
     },
     "execution_count": 168,
     "metadata": {},
     "output_type": "execute_result"
    }
   ],
   "source": [
    "virus_quantiles.shape"
   ]
  },
  {
   "cell_type": "code",
   "execution_count": 184,
   "metadata": {},
   "outputs": [],
   "source": [
    "def plot_histograms(virus_to_look, results, patients_identity, viruses):\n",
    "    result_copy = results.copy()\n",
    "    \n",
    "    patients_results = dict()\n",
    "    for patient_id, entry in zip(patients_identity, result_copy):\n",
    "        if patient_id not in patients_results:\n",
    "            patients_results[patient_id] = []\n",
    "        else:\n",
    "            patients_results[patient_id] += [entry]\n",
    "    \n",
    "    for k in patients_results.keys():\n",
    "        patients_results[k] = np.array(patients_results[k])\n",
    "    \n",
    "    patients_means_per_virus = dict()\n",
    "    for k in patients_results.keys():\n",
    "        patients_means_per_virus[k] = np.median(patients_results[k], axis=0)\n",
    "    \n",
    "    quantiles_label = [0.25, 0.5, 0.75, 1]\n",
    "    virus_quantiles = np.quantile(result_copy, q=quantiles_label, axis=0)\n",
    "    \n",
    "    # virus_idx = 0\n",
    "    # virus_to_look = list(viruses.keys())[virus_idx]\n",
    "    patient_keys = list(patients_means_per_virus.keys())\n",
    "    patients_points = [patients_means_per_virus[k][virus_idx] for k in patient_keys]\n",
    "    plt.figure(figsize=(18, 10))\n",
    "    min_max_x = (-0.05, len(patients_points)-1+0.05)\n",
    "    min_max_y = (min(patients_points), None)\n",
    "    \n",
    "    last_v = 0\n",
    "    for name, v, c in zip(quantiles_label, virus_quantiles[:, virus_idx], ['green', 'yellow', 'orange', 'red']):\n",
    "        plt.axhline(y=v, linestyle='--', label=f'{float(name):.2%} quartile', color=c)\n",
    "        plt.fill_between(x=min_max_x, y1=last_v, y2=v, color=c, alpha=0.6)\n",
    "        last_v = v\n",
    "    plt.scatter(x=patient_keys, y=patients_points, s=300, marker='x', c='black')\n",
    "    for x, (name, y) in enumerate(zip(patient_keys, patients_points)):\n",
    "        plt.annotate(name, (x+0.05,y))\n",
    "#     plt.ylim(*min_max_y)\n",
    "    plt.xlim(*min_max_x)\n",
    "    plt.title(virus_to_look)\n",
    "    plt.legend()"
   ]
  },
  {
   "cell_type": "code",
   "execution_count": 185,
   "metadata": {},
   "outputs": [
    {
     "data": {
      "image/png": "[encoded data removed]",
      "text/plain": [
       "<Figure size 1296x720 with 1 Axes>"
      ]
     },
     "metadata": {
      "needs_background": "light"
     },
     "output_type": "display_data"
    }
   ],
   "source": [
    "plot_histograms(\n",
    "    virus_to_look=list(viruses.keys())[1], \n",
    "    results=result, \n",
    "    patients_identity=patients_identity, \n",
    "    viruses=viruses\n",
    ")"
   ]
  },
  {
   "cell_type": "code",
   "execution_count": 107,
   "metadata": {},
   "outputs": [
    {
     "data": {
      "text/plain": [
       "array([67.12280702, 59.87719298, 59.10526316, 62.01754386, 60.12280702,\n",
       "       63.14035088, 59.21052632, 59.80701754, 59.29824561, 59.12280702,\n",
       "       64.22807018, 60.71929825, 60.35087719, 60.45614035, 66.28070175,\n",
       "       59.38596491, 65.75438596, 59.45614035, 60.        , 58.01754386,\n",
       "       62.87719298, 59.12280702, 59.43859649, 60.87719298, 59.1754386 ,\n",
       "       61.15789474, 60.19298246, 60.59649123, 59.64912281, 58.85964912,\n",
       "       58.29824561, 60.07017544, 62.68421053, 60.42105263, 58.8245614 ,\n",
       "       62.63157895, 59.42105263, 59.12280702, 59.29824561, 58.8245614 ,\n",
       "       59.        , 58.66666667, 58.40350877, 60.05263158, 58.64912281,\n",
       "       66.31578947, 60.66666667, 59.56140351, 59.49122807, 60.10526316])"
      ]
     },
     "execution_count": 107,
     "metadata": {},
     "output_type": "execute_result"
    }
   ],
   "source": [
    "patients_means_per_virus['PT7-S1']"
   ]
  },
  {
   "cell_type": "code",
   "execution_count": 172,
   "metadata": {},
   "outputs": [
    {
     "data": {
      "text/plain": [
       "['NC_001806.2 Human herpesvirus 1 strain 17, complete genome',\n",
       " 'NC_001547.1 Sindbis virus, complete genome']"
      ]
     },
     "execution_count": 172,
     "metadata": {},
     "output_type": "execute_result"
    }
   ],
   "source": [
    "list(viruses.keys())"
   ]
  },
  {
   "cell_type": "code",
   "execution_count": null,
   "metadata": {},
   "outputs": [],
   "source": []
  }
 ],
 "metadata": {
  "kernelspec": {
   "display_name": "Python 3",
   "language": "python",
   "name": "python3"
  },
  "language_info": {
   "codemirror_mode": {
    "name": "ipython",
    "version": 3
   },
   "file_extension": ".py",
   "mimetype": "text/x-python",
   "name": "python",
   "nbconvert_exporter": "python",
   "pygments_lexer": "ipython3",
   "version": "3.7.5"
  }
 },
 "nbformat": 4,
 "nbformat_minor": 4
}
