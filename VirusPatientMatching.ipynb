{
 "cells": [
  {
   "cell_type": "code",
   "execution_count": 1,
   "metadata": {},
   "outputs": [],
   "source": [
    "%load_ext autoreload\n",
    "%autoreload 2"
   ]
  },
  {
   "cell_type": "code",
   "execution_count": 2,
   "metadata": {},
   "outputs": [],
   "source": [
    "from Bio import SeqIO\n",
    "from Bio import Align\n",
    "\n",
    "import json\n",
    "import numpy as np\n",
    "from functools import reduce\n",
    "from utils import load_patients, load_viruses, compute_virus_alignment_score"
   ]
  },
  {
   "cell_type": "markdown",
   "metadata": {},
   "source": [
    "# Example with `gap_score`"
   ]
  },
  {
   "cell_type": "code",
   "execution_count": 3,
   "metadata": {},
   "outputs": [
    {
     "name": "stdout",
     "output_type": "stream",
     "text": [
      "Score = 1.0:\n",
      "TATCC\n",
      "-|-|-\n",
      "-A-C-\n",
      "\n",
      "Score = 1.0:\n",
      "TATCC\n",
      "-|.--\n",
      "-AC--\n",
      "\n",
      "Score = 1.0:\n",
      "TATCC\n",
      "--.|-\n",
      "--AC-\n",
      "\n",
      "Score = 1.0:\n",
      "TATCC\n",
      "---.|\n",
      "---AC\n",
      "\n"
     ]
    },
    {
     "data": {
      "text/plain": [
       "{'target': 'TATCC',\n",
       " 'query': 'AC',\n",
       " 'score': 1.0,\n",
       " 'path': ((0, 0), (3, 0), (5, 2))}"
      ]
     },
     "execution_count": 3,
     "metadata": {},
     "output_type": "execute_result"
    }
   ],
   "source": [
    "aligner = Align.PairwiseAligner()\n",
    "aligner.open_gap_score = -1\n",
    "aligner.extend_gap_score = -1\n",
    "aligner.target_end_gap_score = 0.0\n",
    "aligner.query_end_gap_score = 0.0\n",
    "\n",
    "alignments = aligner.align(\"TATCC\", \"AC\")\n",
    "for alignment in sorted(alignments):\n",
    "    print(\"Score = %.1f:\" % alignment.score)\n",
    "    print(alignment)\n",
    "\n",
    "alignments.alignment.__dict__"
   ]
  },
  {
   "cell_type": "markdown",
   "metadata": {},
   "source": [
    "# Loading data"
   ]
  },
  {
   "cell_type": "code",
   "execution_count": 4,
   "metadata": {},
   "outputs": [
    {
     "name": "stdout",
     "output_type": "stream",
     "text": [
      "viral.3.2.genomic.fna\t... Done.\n",
      "viral.2.3.genomic.fna\t... Done.\n",
      "viral.3.1.genomic.fna\t... Done.\n",
      "viral.2.1.genomic.fna\t... Done.\n",
      "viral.1.1.genomic.fna\t... Done.\n",
      "viral.2.4.genomic.fna\t... Done.\n",
      "viral.2.2.genomic.fna\t... Done.\n",
      "PT8-S2.fastq\t... Done.\n",
      "PT9-S1.fastq\t... Done.\n",
      "PT8-S1.fastq\t... Done.\n",
      "PT7-S1.fastq\t... Done.\n",
      "PT2-S1_1.fastq\t... Done.\n",
      "(310541,)\n",
      "(310541,)\n"
     ]
    }
   ],
   "source": [
    "viruses_full = load_viruses()\n",
    "patients_identity_full, patients_entries_full = load_patients()\n",
    "print(patients_entries_full.shape)\n",
    "print(patients_identity_full.shape)"
   ]
  },
  {
   "cell_type": "code",
   "execution_count": 5,
   "metadata": {},
   "outputs": [],
   "source": [
    "with open('popular_virus_names.json', 'r') as f:\n",
    "    popular_viruses_keys = json.load(f)"
   ]
  },
  {
   "cell_type": "code",
   "execution_count": 6,
   "metadata": {},
   "outputs": [],
   "source": [
    "n_viruses = 5\n",
    "n_entries = 10\n",
    "\n",
    "np.random.seed(42)\n",
    "\n",
    "viruses = {k:viruses_full[k] for k in popular_viruses_keys[:n_viruses]}\n",
    "\n",
    "random_idx = np.arange(patients_entries_full.shape[0])\n",
    "np.random.shuffle(random_idx)\n",
    "random_idx = random_idx[:n_entries]\n",
    "\n",
    "patients_entries = patients_entries_full[random_idx]\n",
    "patients_identity = patients_identity_full[random_idx]"
   ]
  },
  {
   "cell_type": "code",
   "execution_count": 14,
   "metadata": {},
   "outputs": [],
   "source": [
    "from multiprocessing import Pool\n",
    "\n",
    "aligner = Align.PairwiseAligner()\n",
    "aligner.open_gap_score = -1\n",
    "aligner.extend_gap_score = -1\n",
    "aligner.target_end_gap_score = 0.0\n",
    "aligner.query_end_gap_score = 0.0\n",
    "\n",
    "\n",
    "def comp_al_score(patients_vdna):\n",
    "    patients_entries, virus_dna = patients_vdna\n",
    "    return compute_virus_alignment_score(patients_entries, virus_dna, aligner)\n",
    "\n",
    "\n",
    "tuples_to_process = [(patients_entries, v_dna) for v_dna in viruses.values()]\n",
    "\n",
    "with Pool(8) as p:\n",
    "    alignements_scors_list = p.map(\n",
    "        comp_al_score, \n",
    "        tuples_to_process\n",
    "    )\n",
    "\n",
    "result = np.array(alignements_scors_list).T"
   ]
  },
  {
   "cell_type": "code",
   "execution_count": 16,
   "metadata": {},
   "outputs": [
    {
     "data": {
      "text/plain": [
       "array([[ 70.,  66.,  68.,  77.,  66.],\n",
       "       [ 70.,  71.,  71.,  75.,  72.],\n",
       "       [105.,  65.,  68.,  71.,  64.],\n",
       "       [ 65.,  71.,  69.,  82.,  69.],\n",
       "       [157., 130., 131., 135., 132.],\n",
       "       [ 58.,  57.,  57.,  64.,  57.],\n",
       "       [ 72.,  73.,  71.,  72.,  71.],\n",
       "       [  0.,   0.,   0.,   0.,   0.],\n",
       "       [ 69.,  71.,  70.,  76.,  69.],\n",
       "       [128., 135., 135., 143., 136.]])"
      ]
     },
     "execution_count": 16,
     "metadata": {},
     "output_type": "execute_result"
    }
   ],
   "source": [
    "result"
   ]
  },
  {
   "cell_type": "code",
   "execution_count": 18,
   "metadata": {},
   "outputs": [
    {
     "data": {
      "image/png": "[encoded data removed]",
      "text/plain": [
       "<Figure size 1080x1080 with 1 Axes>"
      ]
     },
     "metadata": {
      "needs_background": "light"
     },
     "output_type": "display_data"
    }
   ],
   "source": [
    "from matplotlib import pyplot as plt\n",
    "%matplotlib inline\n",
    "\n",
    "plt.figure(figsize=(15, 15))\n",
    "plt.xlabel('Viruses')\n",
    "plt.ylabel('Entries')\n",
    "plt.imshow(result, cmap='hot', interpolation='nearest');"
   ]
  },
  {
   "cell_type": "code",
   "execution_count": null,
   "metadata": {},
   "outputs": [],
   "source": []
  }
 ],
 "metadata": {
  "kernelspec": {
   "display_name": "Python 3",
   "language": "python",
   "name": "python3"
  },
  "language_info": {
   "codemirror_mode": {
    "name": "ipython",
    "version": 3
   },
   "file_extension": ".py",
   "mimetype": "text/x-python",
   "name": "python",
   "nbconvert_exporter": "python",
   "pygments_lexer": "ipython3",
   "version": "3.7.4"
  }
 },
 "nbformat": 4,
 "nbformat_minor": 4
}
